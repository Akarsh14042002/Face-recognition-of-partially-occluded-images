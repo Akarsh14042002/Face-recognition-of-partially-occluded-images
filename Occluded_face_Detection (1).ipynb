{
  "nbformat": 4,
  "nbformat_minor": 0,
  "metadata": {
    "colab": {
      "provenance": [],
      "toc_visible": true
    },
    "kernelspec": {
      "name": "python3",
      "display_name": "Python 3"
    },
    "language_info": {
      "name": "python"
    },
    "accelerator": "TPU"
  },
  "cells": [
    {
      "cell_type": "code",
      "execution_count": null,
      "metadata": {
        "colab": {
          "base_uri": "https://localhost:8080/"
        },
        "id": "b5lxap2_9aDh",
        "outputId": "cb956f40-2af3-4232-da6a-da88aa8f8254"
      },
      "outputs": [
        {
          "output_type": "stream",
          "name": "stdout",
          "text": [
            "Requirement already satisfied: tensorflow in /usr/local/lib/python3.10/dist-packages (2.12.0)\n",
            "Requirement already satisfied: absl-py>=1.0.0 in /usr/local/lib/python3.10/dist-packages (from tensorflow) (1.4.0)\n",
            "Requirement already satisfied: astunparse>=1.6.0 in /usr/local/lib/python3.10/dist-packages (from tensorflow) (1.6.3)\n",
            "Requirement already satisfied: flatbuffers>=2.0 in /usr/local/lib/python3.10/dist-packages (from tensorflow) (23.5.26)\n",
            "Requirement already satisfied: gast<=0.4.0,>=0.2.1 in /usr/local/lib/python3.10/dist-packages (from tensorflow) (0.4.0)\n",
            "Requirement already satisfied: google-pasta>=0.1.1 in /usr/local/lib/python3.10/dist-packages (from tensorflow) (0.2.0)\n",
            "Requirement already satisfied: grpcio<2.0,>=1.24.3 in /usr/local/lib/python3.10/dist-packages (from tensorflow) (1.59.3)\n",
            "Requirement already satisfied: h5py>=2.9.0 in /usr/local/lib/python3.10/dist-packages (from tensorflow) (3.9.0)\n",
            "Requirement already satisfied: jax>=0.3.15 in /usr/local/lib/python3.10/dist-packages (from tensorflow) (0.3.25)\n",
            "Requirement already satisfied: keras<2.13,>=2.12.0 in /usr/local/lib/python3.10/dist-packages (from tensorflow) (2.12.0)\n",
            "Requirement already satisfied: libclang>=13.0.0 in /usr/local/lib/python3.10/dist-packages (from tensorflow) (16.0.6)\n",
            "Requirement already satisfied: numpy<1.24,>=1.22 in /usr/local/lib/python3.10/dist-packages (from tensorflow) (1.23.5)\n",
            "Requirement already satisfied: opt-einsum>=2.3.2 in /usr/local/lib/python3.10/dist-packages (from tensorflow) (3.3.0)\n",
            "Requirement already satisfied: packaging in /usr/local/lib/python3.10/dist-packages (from tensorflow) (23.2)\n",
            "Requirement already satisfied: protobuf!=4.21.0,!=4.21.1,!=4.21.2,!=4.21.3,!=4.21.4,!=4.21.5,<5.0.0dev,>=3.20.3 in /usr/local/lib/python3.10/dist-packages (from tensorflow) (3.20.3)\n",
            "Requirement already satisfied: setuptools in /usr/local/lib/python3.10/dist-packages (from tensorflow) (67.7.2)\n",
            "Requirement already satisfied: six>=1.12.0 in /usr/local/lib/python3.10/dist-packages (from tensorflow) (1.16.0)\n",
            "Requirement already satisfied: tensorboard<2.13,>=2.12 in /usr/local/lib/python3.10/dist-packages (from tensorflow) (2.12.0)\n",
            "Requirement already satisfied: tensorflow-estimator<2.13,>=2.12.0 in /usr/local/lib/python3.10/dist-packages (from tensorflow) (2.12.0)\n",
            "Requirement already satisfied: termcolor>=1.1.0 in /usr/local/lib/python3.10/dist-packages (from tensorflow) (2.4.0)\n",
            "Requirement already satisfied: typing-extensions>=3.6.6 in /usr/local/lib/python3.10/dist-packages (from tensorflow) (4.5.0)\n",
            "Requirement already satisfied: wrapt<1.15,>=1.11.0 in /usr/local/lib/python3.10/dist-packages (from tensorflow) (1.14.1)\n",
            "Requirement already satisfied: tensorflow-io-gcs-filesystem>=0.23.1 in /usr/local/lib/python3.10/dist-packages (from tensorflow) (0.34.0)\n",
            "Requirement already satisfied: wheel<1.0,>=0.23.0 in /usr/local/lib/python3.10/dist-packages (from astunparse>=1.6.0->tensorflow) (0.42.0)\n",
            "Requirement already satisfied: scipy>=1.5 in /usr/local/lib/python3.10/dist-packages (from jax>=0.3.15->tensorflow) (1.11.4)\n",
            "Requirement already satisfied: google-auth<3,>=1.6.3 in /usr/local/lib/python3.10/dist-packages (from tensorboard<2.13,>=2.12->tensorflow) (2.17.3)\n",
            "Requirement already satisfied: google-auth-oauthlib<0.5,>=0.4.1 in /usr/local/lib/python3.10/dist-packages (from tensorboard<2.13,>=2.12->tensorflow) (0.4.6)\n",
            "Requirement already satisfied: markdown>=2.6.8 in /usr/local/lib/python3.10/dist-packages (from tensorboard<2.13,>=2.12->tensorflow) (3.5.1)\n",
            "Requirement already satisfied: requests<3,>=2.21.0 in /usr/local/lib/python3.10/dist-packages (from tensorboard<2.13,>=2.12->tensorflow) (2.31.0)\n",
            "Requirement already satisfied: tensorboard-data-server<0.8.0,>=0.7.0 in /usr/local/lib/python3.10/dist-packages (from tensorboard<2.13,>=2.12->tensorflow) (0.7.2)\n",
            "Requirement already satisfied: tensorboard-plugin-wit>=1.6.0 in /usr/local/lib/python3.10/dist-packages (from tensorboard<2.13,>=2.12->tensorflow) (1.8.1)\n",
            "Requirement already satisfied: werkzeug>=1.0.1 in /usr/local/lib/python3.10/dist-packages (from tensorboard<2.13,>=2.12->tensorflow) (3.0.1)\n",
            "Requirement already satisfied: cachetools<6.0,>=2.0.0 in /usr/local/lib/python3.10/dist-packages (from google-auth<3,>=1.6.3->tensorboard<2.13,>=2.12->tensorflow) (5.3.2)\n",
            "Requirement already satisfied: pyasn1-modules>=0.2.1 in /usr/local/lib/python3.10/dist-packages (from google-auth<3,>=1.6.3->tensorboard<2.13,>=2.12->tensorflow) (0.3.0)\n",
            "Requirement already satisfied: rsa<5,>=3.1.4 in /usr/local/lib/python3.10/dist-packages (from google-auth<3,>=1.6.3->tensorboard<2.13,>=2.12->tensorflow) (4.9)\n",
            "Requirement already satisfied: requests-oauthlib>=0.7.0 in /usr/local/lib/python3.10/dist-packages (from google-auth-oauthlib<0.5,>=0.4.1->tensorboard<2.13,>=2.12->tensorflow) (1.3.1)\n",
            "Requirement already satisfied: charset-normalizer<4,>=2 in /usr/local/lib/python3.10/dist-packages (from requests<3,>=2.21.0->tensorboard<2.13,>=2.12->tensorflow) (3.3.2)\n",
            "Requirement already satisfied: idna<4,>=2.5 in /usr/local/lib/python3.10/dist-packages (from requests<3,>=2.21.0->tensorboard<2.13,>=2.12->tensorflow) (3.6)\n",
            "Requirement already satisfied: urllib3<3,>=1.21.1 in /usr/local/lib/python3.10/dist-packages (from requests<3,>=2.21.0->tensorboard<2.13,>=2.12->tensorflow) (2.0.7)\n",
            "Requirement already satisfied: certifi>=2017.4.17 in /usr/local/lib/python3.10/dist-packages (from requests<3,>=2.21.0->tensorboard<2.13,>=2.12->tensorflow) (2023.11.17)\n",
            "Requirement already satisfied: MarkupSafe>=2.1.1 in /usr/local/lib/python3.10/dist-packages (from werkzeug>=1.0.1->tensorboard<2.13,>=2.12->tensorflow) (2.1.3)\n",
            "Requirement already satisfied: pyasn1<0.6.0,>=0.4.6 in /usr/local/lib/python3.10/dist-packages (from pyasn1-modules>=0.2.1->google-auth<3,>=1.6.3->tensorboard<2.13,>=2.12->tensorflow) (0.5.1)\n",
            "Requirement already satisfied: oauthlib>=3.0.0 in /usr/local/lib/python3.10/dist-packages (from requests-oauthlib>=0.7.0->google-auth-oauthlib<0.5,>=0.4.1->tensorboard<2.13,>=2.12->tensorflow) (3.2.2)\n",
            "Requirement already satisfied: keras in /usr/local/lib/python3.10/dist-packages (2.12.0)\n",
            "Requirement already satisfied: imutils in /usr/local/lib/python3.10/dist-packages (0.5.4)\n",
            "Requirement already satisfied: numpy in /usr/local/lib/python3.10/dist-packages (1.23.5)\n",
            "Requirement already satisfied: opencv-python in /usr/local/lib/python3.10/dist-packages (4.8.0.76)\n",
            "Requirement already satisfied: numpy>=1.21.2 in /usr/local/lib/python3.10/dist-packages (from opencv-python) (1.23.5)\n",
            "Requirement already satisfied: matplotlib in /usr/local/lib/python3.10/dist-packages (3.7.1)\n",
            "Requirement already satisfied: contourpy>=1.0.1 in /usr/local/lib/python3.10/dist-packages (from matplotlib) (1.2.0)\n",
            "Requirement already satisfied: cycler>=0.10 in /usr/local/lib/python3.10/dist-packages (from matplotlib) (0.12.1)\n",
            "Requirement already satisfied: fonttools>=4.22.0 in /usr/local/lib/python3.10/dist-packages (from matplotlib) (4.46.0)\n",
            "Requirement already satisfied: kiwisolver>=1.0.1 in /usr/local/lib/python3.10/dist-packages (from matplotlib) (1.4.5)\n",
            "Requirement already satisfied: numpy>=1.20 in /usr/local/lib/python3.10/dist-packages (from matplotlib) (1.23.5)\n",
            "Requirement already satisfied: packaging>=20.0 in /usr/local/lib/python3.10/dist-packages (from matplotlib) (23.2)\n",
            "Requirement already satisfied: pillow>=6.2.0 in /usr/local/lib/python3.10/dist-packages (from matplotlib) (9.4.0)\n",
            "Requirement already satisfied: pyparsing>=2.3.1 in /usr/local/lib/python3.10/dist-packages (from matplotlib) (3.1.1)\n",
            "Requirement already satisfied: python-dateutil>=2.7 in /usr/local/lib/python3.10/dist-packages (from matplotlib) (2.8.2)\n",
            "Requirement already satisfied: six>=1.5 in /usr/local/lib/python3.10/dist-packages (from python-dateutil>=2.7->matplotlib) (1.16.0)\n",
            "Requirement already satisfied: scipy in /usr/local/lib/python3.10/dist-packages (1.11.4)\n",
            "Requirement already satisfied: numpy<1.28.0,>=1.21.6 in /usr/local/lib/python3.10/dist-packages (from scipy) (1.23.5)\n"
          ]
        }
      ],
      "source": [
        "!pip install tensorflow\n",
        "!pip install keras\n",
        "!pip install imutils\n",
        "!pip install numpy\n",
        "!pip install opencv-python\n",
        "!pip install matplotlib\n",
        "!pip install scipy\n"
      ]
    },
    {
      "cell_type": "code",
      "source": [
        "python --version"
      ],
      "metadata": {
        "id": "mQ_Sh9J0wi_F"
      },
      "execution_count": null,
      "outputs": []
    },
    {
      "cell_type": "code",
      "source": [
        "# pip install tensorflow\n"
      ],
      "metadata": {
        "id": "Skq4tgLwC6xa"
      },
      "execution_count": null,
      "outputs": []
    },
    {
      "cell_type": "code",
      "source": [
        "# import the necessary packages\n",
        "from tensorflow.keras.preprocessing.image import ImageDataGenerator\n",
        "from tensorflow.keras.applications import MobileNetV2\n",
        "from tensorflow.keras.layers import AveragePooling2D\n",
        "from tensorflow.keras.layers import Dropout\n",
        "from tensorflow.keras.layers import Flatten\n",
        "from tensorflow.keras.layers import Dense\n",
        "from tensorflow.keras.layers import Input\n",
        "from tensorflow.keras.models import Model\n",
        "from tensorflow.keras.optimizers import Adam\n",
        "from tensorflow.keras.applications.mobilenet_v2 import preprocess_input\n",
        "from tensorflow.keras.preprocessing.image import img_to_array\n",
        "from tensorflow.keras.preprocessing.image import load_img\n",
        "from tensorflow.keras.utils import to_categorical\n",
        "from sklearn.preprocessing import LabelBinarizer\n",
        "from sklearn.model_selection import train_test_split\n",
        "from sklearn.metrics import classification_report\n",
        "from imutils import paths\n",
        "import matplotlib.pyplot as plt\n",
        "import numpy as np\n",
        "import os"
      ],
      "metadata": {
        "id": "RLGFpX_99bi0"
      },
      "execution_count": null,
      "outputs": []
    },
    {
      "cell_type": "code",
      "source": [
        "# !pip install --upgrade tensorflow numpy opencv-python imutils matplotlib scipy\n"
      ],
      "metadata": {
        "id": "0w31d4yl-zKQ"
      },
      "execution_count": null,
      "outputs": []
    },
    {
      "cell_type": "code",
      "source": [
        "\n",
        "# !pip install keras==2.3.1\n"
      ],
      "metadata": {
        "id": "cocpTqCpK16L"
      },
      "execution_count": null,
      "outputs": []
    },
    {
      "cell_type": "code",
      "source": [
        "# import tensorflow as tf\n",
        "# from tensorflow.keras.preprocessing.image import ImageDataGenerator\n",
        "# from tensorflow.keras.applications import DenseNet121\n",
        "# from tensorflow.keras.layers import AveragePooling2D, Dropout\n"
      ],
      "metadata": {
        "id": "_1b4KfTuKtsl"
      },
      "execution_count": null,
      "outputs": []
    },
    {
      "cell_type": "code",
      "source": [
        "# /content/drive/MyDrive/with_mask\n",
        "# /content/drive/MyDrive/without_mask\n",
        "\n",
        "# initialize the initial learning rate, number of epochs to train for,\n",
        "# and batch size\n",
        "# INIT_LR = 1e-4\n",
        "INIT_LR = 0.001\n",
        "EPOCHS = 10\n",
        "BS = 32\n",
        "\n",
        "DIRECTORY = r\"/content/drive/MyDrive/MProject_dataset\"\n",
        "CATEGORIES = [\"with_mask\", \"without_mask\"]\n",
        "\n",
        "# grab the list of images in our dataset directory, then initialize\n",
        "# the list of data (i.e., images) and class images\n",
        "print(\"[INFO] loading images...\")\n"
      ],
      "metadata": {
        "id": "aj5Hmc5OADcb",
        "colab": {
          "base_uri": "https://localhost:8080/"
        },
        "outputId": "bba1b7f4-9c88-4cf4-93d4-950ddf29245c"
      },
      "execution_count": null,
      "outputs": [
        {
          "output_type": "stream",
          "name": "stdout",
          "text": [
            "[INFO] loading images...\n"
          ]
        }
      ]
    },
    {
      "cell_type": "code",
      "source": [
        "from google.colab import drive\n",
        "drive.mount('/content/drive')"
      ],
      "metadata": {
        "id": "5aHf66NXDG7k",
        "colab": {
          "base_uri": "https://localhost:8080/"
        },
        "outputId": "144d2962-23bb-4586-d1fa-c0dd4bdd3ffc"
      },
      "execution_count": null,
      "outputs": [
        {
          "output_type": "stream",
          "name": "stdout",
          "text": [
            "Drive already mounted at /content/drive; to attempt to forcibly remount, call drive.mount(\"/content/drive\", force_remount=True).\n"
          ]
        }
      ]
    },
    {
      "cell_type": "code",
      "source": [
        "data = []\n",
        "labels = []\n",
        "\n",
        "for category in CATEGORIES:\n",
        "    path = os.path.join(DIRECTORY, category)\n",
        "    for img in os.listdir(path):\n",
        "    \timg_path = os.path.join(path, img)\n",
        "    \timage = load_img(img_path, target_size=(224, 224))\n",
        "    \timage = img_to_array(image)\n",
        "    \timage = preprocess_input(image)\n",
        "\n",
        "    \tdata.append(image)\n",
        "    \tlabels.append(category)"
      ],
      "metadata": {
        "id": "7LZaBPr1BLq1",
        "colab": {
          "base_uri": "https://localhost:8080/"
        },
        "outputId": "6773a33a-c4ab-4a84-e3cf-4148142d3b46"
      },
      "execution_count": null,
      "outputs": [
        {
          "output_type": "stream",
          "name": "stderr",
          "text": [
            "/usr/local/lib/python3.10/dist-packages/PIL/Image.py:996: UserWarning: Palette images with Transparency expressed in bytes should be converted to RGBA images\n",
            "  warnings.warn(\n"
          ]
        }
      ]
    },
    {
      "cell_type": "code",
      "source": [
        "data[0]\n",
        "# /content/drive/MyDrive/dataset/dataset/with_mask/01.jpg"
      ],
      "metadata": {
        "colab": {
          "base_uri": "https://localhost:8080/"
        },
        "id": "LebtgRhVGnXy",
        "outputId": "9d65ccae-daba-4a5b-88e4-fd4d8aa5dd2e"
      },
      "execution_count": null,
      "outputs": [
        {
          "output_type": "execute_result",
          "data": {
            "text/plain": [
              "array([[[-0.9372549 , -0.92941177, -0.9137255 ],\n",
              "        [-0.8352941 , -0.827451  , -0.7882353 ],\n",
              "        [-0.88235295, -0.88235295, -0.81960785],\n",
              "        ...,\n",
              "        [-0.8509804 , -0.88235295, -0.8745098 ],\n",
              "        [-0.00392157, -0.02745098, -0.09803921],\n",
              "        [-0.84313726, -0.8666667 , -0.92156863]],\n",
              "\n",
              "       [[-0.9372549 , -0.92941177, -0.9137255 ],\n",
              "        [-0.88235295, -0.8745098 , -0.8352941 ],\n",
              "        [-0.8745098 , -0.8745098 , -0.8117647 ],\n",
              "        ...,\n",
              "        [-0.8980392 , -0.92941177, -0.92156863],\n",
              "        [-0.31764704, -0.34117645, -0.41176468],\n",
              "        [-0.7647059 , -0.7882353 , -0.84313726]],\n",
              "\n",
              "       [[-0.9372549 , -0.92941177, -0.9137255 ],\n",
              "        [-0.85882354, -0.8509804 , -0.8117647 ],\n",
              "        [-0.88235295, -0.88235295, -0.81960785],\n",
              "        ...,\n",
              "        [-0.9137255 , -0.94509804, -0.9372549 ],\n",
              "        [-0.04313725, -0.06666666, -0.1372549 ],\n",
              "        [-0.60784316, -0.6313726 , -0.6862745 ]],\n",
              "\n",
              "       ...,\n",
              "\n",
              "       [[-0.9372549 , -0.94509804, -0.9607843 ],\n",
              "        [-0.88235295, -0.92156863, -0.9529412 ],\n",
              "        [-0.62352943, -0.6784314 , -0.7254902 ],\n",
              "        ...,\n",
              "        [-0.88235295, -0.88235295, -0.88235295],\n",
              "        [-0.8980392 , -0.8980392 , -0.8980392 ],\n",
              "        [-0.92941177, -0.92941177, -0.92941177]],\n",
              "\n",
              "       [[-0.88235295, -0.8901961 , -0.90588236],\n",
              "        [-0.90588236, -0.94509804, -0.9764706 ],\n",
              "        [-0.8352941 , -0.8901961 , -0.9372549 ],\n",
              "        ...,\n",
              "        [-0.90588236, -0.90588236, -0.90588236],\n",
              "        [-0.9137255 , -0.9137255 , -0.9137255 ],\n",
              "        [-0.8980392 , -0.8980392 , -0.8980392 ]],\n",
              "\n",
              "       [[-0.8901961 , -0.8980392 , -0.9137255 ],\n",
              "        [-0.8352941 , -0.8745098 , -0.90588236],\n",
              "        [-0.78039217, -0.8352941 , -0.88235295],\n",
              "        ...,\n",
              "        [-0.90588236, -0.90588236, -0.90588236],\n",
              "        [-0.8666667 , -0.8666667 , -0.8666667 ],\n",
              "        [-0.9137255 , -0.9137255 , -0.9137255 ]]], dtype=float32)"
            ]
          },
          "metadata": {},
          "execution_count": 7
        }
      ]
    },
    {
      "cell_type": "code",
      "source": [
        "# perform one-hot encoding on the labels\n",
        "lb = LabelBinarizer()\n",
        "labels = lb.fit_transform(labels)\n",
        "labels = to_categorical(labels)\n",
        "\n",
        "data = np.array(data, dtype=\"float32\")\n",
        "labels = np.array(labels)\n",
        "\n",
        "(trainX, testX, trainY, testY) = train_test_split(data, labels,\n",
        "\ttest_size=0.20, stratify=labels, random_state=42)\n"
      ],
      "metadata": {
        "id": "mV3pu_vpDzz8"
      },
      "execution_count": null,
      "outputs": []
    },
    {
      "cell_type": "code",
      "source": [
        "import sklearn"
      ],
      "metadata": {
        "id": "eF5izE43KTFh"
      },
      "execution_count": null,
      "outputs": []
    },
    {
      "cell_type": "code",
      "source": [
        "from sklearn.model_selection import StratifiedKFold\n"
      ],
      "metadata": {
        "id": "2BiVMUzXLMFV"
      },
      "execution_count": null,
      "outputs": []
    },
    {
      "cell_type": "code",
      "source": [
        "len(labels)"
      ],
      "metadata": {
        "colab": {
          "base_uri": "https://localhost:8080/"
        },
        "id": "GU8e6xMYNQ2t",
        "outputId": "28405847-7d5d-44ea-b562-64a39e5a7da8"
      },
      "execution_count": null,
      "outputs": [
        {
          "output_type": "execute_result",
          "data": {
            "text/plain": [
              "4103"
            ]
          },
          "metadata": {},
          "execution_count": 11
        }
      ]
    },
    {
      "cell_type": "code",
      "source": [
        "!pip install iterative-stratification"
      ],
      "metadata": {
        "colab": {
          "base_uri": "https://localhost:8080/"
        },
        "id": "IovNYGfkRJGu",
        "outputId": "8fdfd1e7-d96a-4308-c485-c54f5e3b037c"
      },
      "execution_count": null,
      "outputs": [
        {
          "output_type": "stream",
          "name": "stdout",
          "text": [
            "Collecting iterative-stratification\n",
            "  Downloading iterative_stratification-0.1.7-py3-none-any.whl (8.5 kB)\n",
            "Requirement already satisfied: numpy in /usr/local/lib/python3.10/dist-packages (from iterative-stratification) (1.23.5)\n",
            "Requirement already satisfied: scipy in /usr/local/lib/python3.10/dist-packages (from iterative-stratification) (1.11.4)\n",
            "Requirement already satisfied: scikit-learn in /usr/local/lib/python3.10/dist-packages (from iterative-stratification) (1.2.2)\n",
            "Requirement already satisfied: joblib>=1.1.1 in /usr/local/lib/python3.10/dist-packages (from scikit-learn->iterative-stratification) (1.3.2)\n",
            "Requirement already satisfied: threadpoolctl>=2.0.0 in /usr/local/lib/python3.10/dist-packages (from scikit-learn->iterative-stratification) (3.2.0)\n",
            "Installing collected packages: iterative-stratification\n",
            "Successfully installed iterative-stratification-0.1.7\n"
          ]
        }
      ]
    },
    {
      "cell_type": "code",
      "source": [
        "import numpy as np\n",
        "from sklearn.model_selection import StratifiedKFold\n",
        "from iterstrat.ml_stratifiers import MultilabelStratifiedKFold\n",
        "# Your other code here\n",
        "\n",
        "# Initialize StratifiedKFold\n",
        "skf = MultilabelStratifiedKFold(n_splits=3, shuffle=True, random_state=42)\n",
        "\n",
        "# Iterate through the folds\n",
        "for train_index, test_index in skf.split(data, labels):\n",
        "    X_train, X_test = data[train_index], data[test_index]\n",
        "    Y_train, Y_test = labels[train_index], labels[test_index]"
      ],
      "metadata": {
        "id": "YODmSsMuLT3q"
      },
      "execution_count": null,
      "outputs": []
    },
    {
      "cell_type": "code",
      "source": [
        "# # Set the number of folds\n",
        "# n_splits = 3  # You can change this to the desired number of folds\n",
        "\n",
        "# # Initialize StratifiedKFold\n",
        "# skf = StratifiedKFold(n_splits=n_splits, shuffle=True, random_state=42)\n",
        "\n",
        "# # Iterate through the folds\n",
        "# for fold, (train_index, test_index) in enumerate(skf.split(X, y)):\n",
        "#     X_train, X_test = X[train_index], X[test_index]\n",
        "#     y_train, y_test = y[train_index], y[test_index]\n",
        "\n",
        "#     # Now you can use X_train, X_test, y_train, y_test in your machine learning model\n",
        "#     # Train your model on X_train and y_train, and evaluate on X_test and y_test\n",
        "#     # Repeat this process for each fold"
      ],
      "metadata": {
        "id": "j0V9JAc_JSrI"
      },
      "execution_count": null,
      "outputs": []
    },
    {
      "cell_type": "code",
      "source": [
        "# construct the training image generator for data augmentation\n",
        "aug = ImageDataGenerator(\n",
        "\trotation_range=20,\n",
        "\tzoom_range=0.15,\n",
        "\twidth_shift_range=0.2,\n",
        "\theight_shift_range=0.2,\n",
        "\tshear_range=0.15,\n",
        "\thorizontal_flip=True,\n",
        "\tfill_mode=\"nearest\")\n"
      ],
      "metadata": {
        "id": "YNqp4F8XEpwy"
      },
      "execution_count": null,
      "outputs": []
    },
    {
      "cell_type": "code",
      "source": [
        "# load the MobileNetV2 network, ensuring the head FC layer sets are\n",
        "# left off\n",
        "baseModel = MobileNetV2(weights=\"imagenet\", include_top=False,\n",
        "\tinput_tensor=Input(shape=(224, 224, 3)))\n",
        "\n",
        "# construct the head of the model that will be placed on top of the\n",
        "# the base model\n",
        "headModel = baseModel.output\n",
        "headModel = AveragePooling2D(pool_size=(7, 7))(headModel)\n",
        "headModel = Flatten(name=\"flatten\")(headModel)\n",
        "headModel = Dense(128, activation=\"relu\")(headModel)\n",
        "headModel = Dropout(0.5)(headModel)\n",
        "headModel = Dense(2, activation=\"softmax\")(headModel)\n"
      ],
      "metadata": {
        "id": "Q7rj-A4WEthg",
        "colab": {
          "base_uri": "https://localhost:8080/"
        },
        "outputId": "84fae146-e463-4d27-bc4a-95c560bc4960"
      },
      "execution_count": null,
      "outputs": [
        {
          "output_type": "stream",
          "name": "stderr",
          "text": [
            "WARNING:tensorflow:`input_shape` is undefined or non-square, or `rows` is not in [96, 128, 160, 192, 224]. Weights for input shape (224, 224) will be loaded as the default.\n"
          ]
        },
        {
          "output_type": "stream",
          "name": "stdout",
          "text": [
            "Downloading data from https://storage.googleapis.com/tensorflow/keras-applications/mobilenet_v2/mobilenet_v2_weights_tf_dim_ordering_tf_kernels_1.0_224_no_top.h5\n",
            "9406464/9406464 [==============================] - 0s 0us/step\n"
          ]
        }
      ]
    },
    {
      "cell_type": "code",
      "source": [
        "# place the head FC model on top of the base model (this will become\n",
        "# the actual model we will train)\n",
        "model = Model(inputs=baseModel.input, outputs=headModel)\n",
        "\n",
        "# loop over all layers in the base model and freeze them so they will\n",
        "# *not* be updated during the first training process\n",
        "for layer in baseModel.layers:\n",
        "\tlayer.trainable = False"
      ],
      "metadata": {
        "id": "Rxph3b5EExv-"
      },
      "execution_count": null,
      "outputs": []
    },
    {
      "cell_type": "code",
      "source": [
        "from tensorflow.keras.optimizers import Adam\n",
        "\n",
        "# Compile the model using the Adam optimizer without the decay parameter\n",
        "print(\"[INFO] compiling model...\")\n",
        "opt = Adam(learning_rate=INIT_LR)\n",
        "model.compile(loss=\"binary_crossentropy\", optimizer=opt, metrics=[\"accuracy\"])\n"
      ],
      "metadata": {
        "id": "gx56OVntFvAR",
        "colab": {
          "base_uri": "https://localhost:8080/"
        },
        "outputId": "fd3f74fb-b983-4614-ec52-90f812d4ae67"
      },
      "execution_count": null,
      "outputs": [
        {
          "output_type": "stream",
          "name": "stdout",
          "text": [
            "[INFO] compiling model...\n"
          ]
        }
      ]
    },
    {
      "cell_type": "code",
      "source": [
        "# from tensorflow.keras.optimizers import Adam\n",
        "\n",
        "# # ...\n",
        "\n",
        "# # Compile the model using the Adam optimizer\n",
        "# print(\"[INFO] compiling model...\")\n",
        "# opt = Adam(learning_rate=INIT_LR, decay=INIT_LR / EPOCHS)\n",
        "# model.compile(loss=\"binary_crossentropy\", optimizer=opt, metrics=[\"accuracy\"])\n"
      ],
      "metadata": {
        "id": "GK0zAIMZFbWA"
      },
      "execution_count": null,
      "outputs": []
    },
    {
      "cell_type": "code",
      "source": [
        "# # compile our model\n",
        "# print(\"[INFO] compiling model...\")\n",
        "# opt = Adam(lr=INIT_LR, decay=INIT_LR / EPOCHS)\n",
        "# model.compile(loss=\"binary_crossentropy\", optimizer=opt,\n",
        "# \tmetrics=[\"accuracy\"])"
      ],
      "metadata": {
        "id": "12BiI9yaE8D0"
      },
      "execution_count": null,
      "outputs": []
    },
    {
      "cell_type": "code",
      "source": [
        "# train the head of the network\n",
        "print(\"[INFO] training head...\")\n",
        "H = model.fit(\n",
        "\taug.flow(trainX, trainY, batch_size=BS),\n",
        "\tsteps_per_epoch=len(trainX) // BS,\n",
        "\tvalidation_data=(testX, testY),\n",
        "\tvalidation_steps=len(testX) // BS,\n",
        "\tepochs=EPOCHS)"
      ],
      "metadata": {
        "id": "B-VVh-GeFPk8",
        "colab": {
          "base_uri": "https://localhost:8080/"
        },
        "outputId": "e0c37579-9e1d-4440-dd36-93afb260761a"
      },
      "execution_count": null,
      "outputs": [
        {
          "output_type": "stream",
          "name": "stdout",
          "text": [
            "[INFO] training head...\n",
            "Epoch 1/10\n",
            "102/102 [==============================] - 235s 2s/step - loss: 0.1158 - accuracy: 0.9591 - val_loss: 0.0452 - val_accuracy: 0.9842\n",
            "Epoch 2/10\n",
            "102/102 [==============================] - 214s 2s/step - loss: 0.0542 - accuracy: 0.9828 - val_loss: 0.0399 - val_accuracy: 0.9854\n",
            "Epoch 3/10\n",
            "102/102 [==============================] - 226s 2s/step - loss: 0.0440 - accuracy: 0.9837 - val_loss: 0.0477 - val_accuracy: 0.9817\n",
            "Epoch 4/10\n",
            "102/102 [==============================] - 220s 2s/step - loss: 0.0429 - accuracy: 0.9868 - val_loss: 0.0341 - val_accuracy: 0.9878\n",
            "Epoch 5/10\n",
            "102/102 [==============================] - 214s 2s/step - loss: 0.0342 - accuracy: 0.9898 - val_loss: 0.0295 - val_accuracy: 0.9866\n",
            "Epoch 6/10\n",
            "102/102 [==============================] - 226s 2s/step - loss: 0.0329 - accuracy: 0.9874 - val_loss: 0.0251 - val_accuracy: 0.9903\n",
            "Epoch 7/10\n",
            "102/102 [==============================] - 221s 2s/step - loss: 0.0234 - accuracy: 0.9905 - val_loss: 0.0297 - val_accuracy: 0.9878\n",
            "Epoch 8/10\n",
            "102/102 [==============================] - 216s 2s/step - loss: 0.0311 - accuracy: 0.9886 - val_loss: 0.0312 - val_accuracy: 0.9866\n",
            "Epoch 9/10\n",
            "102/102 [==============================] - 216s 2s/step - loss: 0.0298 - accuracy: 0.9889 - val_loss: 0.0339 - val_accuracy: 0.9854\n",
            "Epoch 10/10\n",
            "102/102 [==============================] - 221s 2s/step - loss: 0.0181 - accuracy: 0.9932 - val_loss: 0.0346 - val_accuracy: 0.9842\n"
          ]
        }
      ]
    },
    {
      "cell_type": "code",
      "source": [
        "# make predictions on the testing set\n",
        "print(\"[INFO] evaluating network...\")\n",
        "predIdxs = model.predict(testX, batch_size=BS)\n",
        "\n",
        "# for each image in the testing set we need to find the index of the\n",
        "# label with corresponding largest predicted probability\n",
        "predIdxs = np.argmax(predIdxs, axis=1)\n",
        "\n",
        "# show a nicely formatted classification report\n",
        "print(classification_report(testY.argmax(axis=1), predIdxs,\n",
        "\ttarget_names=lb.classes_))\n",
        "\n",
        "# serialize the model to disk\n",
        "print(\"[INFO] saving mask detector model...\")\n",
        "model.save(\"mask_detector.model\", save_format=\"h5\")\n"
      ],
      "metadata": {
        "id": "sCbR0RIdGFve",
        "colab": {
          "base_uri": "https://localhost:8080/"
        },
        "outputId": "28987b77-0f78-474b-ccf4-39b5f4c56f6d"
      },
      "execution_count": null,
      "outputs": [
        {
          "output_type": "stream",
          "name": "stdout",
          "text": [
            "[INFO] evaluating network...\n",
            "26/26 [==============================] - 34s 1s/step\n",
            "              precision    recall  f1-score   support\n",
            "\n",
            "   with_mask       0.98      0.99      0.99       433\n",
            "without_mask       0.99      0.98      0.98       388\n",
            "\n",
            "    accuracy                           0.98       821\n",
            "   macro avg       0.98      0.98      0.98       821\n",
            "weighted avg       0.98      0.98      0.98       821\n",
            "\n",
            "[INFO] saving mask detector model...\n"
          ]
        }
      ]
    },
    {
      "cell_type": "code",
      "source": [
        "# plot the training loss and accuracy\n",
        "N = EPOCHS\n",
        "plt.style.use(\"ggplot\")\n",
        "plt.figure()\n",
        "plt.plot(np.arange(0, N), H.history[\"loss\"], label=\"train_loss\")\n",
        "plt.plot(np.arange(0, N), H.history[\"val_loss\"], label=\"val_loss\")\n",
        "plt.plot(np.arange(0, N), H.history[\"accuracy\"], label=\"train_acc\")\n",
        "plt.plot(np.arange(0, N), H.history[\"val_accuracy\"], label=\"val_acc\")\n",
        "plt.title(\"Training Loss and Accuracy\")\n",
        "plt.xlabel(\"Epoch #\")\n",
        "plt.ylabel(\"Loss/Accuracy\")\n",
        "plt.legend(loc=\"lower left\")\n",
        "plt.savefig(\"plot.png\")"
      ],
      "metadata": {
        "id": "9MIiOug-albo",
        "colab": {
          "base_uri": "https://localhost:8080/",
          "height": 477
        },
        "outputId": "c4c50aa6-b6bb-4143-d62e-d45fc15946dc"
      },
      "execution_count": null,
      "outputs": [
        {
          "output_type": "display_data",
          "data": {
            "text/plain": [
              "<Figure size 640x480 with 1 Axes>"
            ],
            "image/png": "[encoded data removed]"
          },
          "metadata": {}
        }
      ]
    },
    {
      "cell_type": "code",
      "source": [
        "from sklearn import svm\n",
        "from sklearn.model_selection import train_test_split\n",
        "from sklearn.metrics import accuracy_score\n",
        "\n",
        "# Assuming data and labels are your input arrays\n",
        "# Reshape data to a 2D array\n",
        "data_reshaped = [img.flatten() for img in data]\n",
        "print(data_reshaped)\n",
        "# Split data into training and testing sets\n",
        "X_tr, X_te, y_tr, y_te = train_test_split(data_reshaped, labels, test_size=0.2, random_state=42)\n",
        "\n",
        "# Create SVM model\n",
        "svm_model = svm.SVC(kernel='linear')\n",
        "\n",
        "# Train the model\n",
        "svm_model.fit(X_tr, y_tr)\n",
        "\n",
        "# Make predictions\n",
        "svm_predictions = svm_model.predict(X_te)\n",
        "\n",
        "# Evaluate accuracy\n",
        "svm_accuracy = accuracy_score(y_te, svm_predictions)\n",
        "\n",
        "print(f\"SVM Accuracy: {svm_accuracy}\")"
      ],
      "metadata": {
        "id": "7IWC88XFaxVM"
      },
      "execution_count": null,
      "outputs": []
    },
    {
      "cell_type": "code",
      "source": [],
      "metadata": {
        "id": "23GwtzOOZ4HD"
      },
      "execution_count": null,
      "outputs": []
    }
  ]
}